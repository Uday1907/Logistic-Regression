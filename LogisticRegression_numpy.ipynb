{
 "cells": [
  {
   "cell_type": "code",
   "execution_count": 1,
   "id": "45adc767-6a8d-4c8d-aafd-ef10e9c10cdd",
   "metadata": {},
   "outputs": [],
   "source": [
    "import numpy as np\n",
    "import matplotlib.pyplot as plt\n",
    "import pandas as pd"
   ]
  },
  {
   "cell_type": "code",
   "execution_count": 2,
   "id": "69fb3454-ce71-4e6c-bc7b-830588940be4",
   "metadata": {},
   "outputs": [
    {
     "name": "stdout",
     "output_type": "stream",
     "text": [
      "   Clump Thickness  Uniformity of Cell Size  Uniformity of Cell Shape  \\\n",
      "0                5                        1                         1   \n",
      "1                5                        4                         4   \n",
      "2                3                        1                         1   \n",
      "3                6                        8                         8   \n",
      "4                4                        1                         1   \n",
      "\n",
      "   Marginal Adhesion  Single Epithelial Cell Size  Bare Nuclei  \\\n",
      "0                  1                            2            1   \n",
      "1                  5                            7           10   \n",
      "2                  1                            2            2   \n",
      "3                  1                            3            4   \n",
      "4                  3                            2            1   \n",
      "\n",
      "   Bland Chromatin  Normal Nucleoli  Mitoses  Class  \n",
      "0                3                1        1      2  \n",
      "1                3                2        1      2  \n",
      "2                3                1        1      2  \n",
      "3                3                7        1      2  \n",
      "4                3                1        1      2  \n"
     ]
    }
   ],
   "source": [
    "data_set=pd.read_csv('breast_cancer.csv')\n",
    "print(data_set.head())\n",
    "train_set=data_set[0:500]\n",
    "test_set=data_set[500:683]\n",
    "train_set=np.array(train_set)\n",
    "test_set=np.array(test_set)"
   ]
  },
  {
   "cell_type": "code",
   "execution_count": 3,
   "id": "6d776876-0b81-43fe-a6c5-78b842e2a819",
   "metadata": {},
   "outputs": [],
   "source": [
    "x_train=train_set[:,:9]\n",
    "y_train=train_set[:,9]\n",
    "y_train=y_train.reshape((1,500))"
   ]
  },
  {
   "cell_type": "code",
   "execution_count": 4,
   "id": "b7944d02-31b1-4f89-bce9-4cca6f0ef4b3",
   "metadata": {},
   "outputs": [
    {
     "name": "stdout",
     "output_type": "stream",
     "text": [
      "[[2 2 2 2 2 4 2 2 2 2 2 2 4 2 4 4 2 2 4 2 4 4 2 2 4 2 2 2 2 2 2 4 2 2 2 4\n",
      "  2 4 4 4 4 4 4 2 4 2 2 4 4 4 4 4 4 4 4 4 4 4 4 2 4 4 2 4 2 4 4 2 2 4 2 4\n",
      "  4 2 2 2 2 2 2 2 2 2 4 4 4 4 2 2 2 2 2 2 2 2 2 2 4 4 4 4 2 4 4 4 4 4 2 4\n",
      "  2 4 4 4 2 2 2 4 2 2 2 2 4 4 4 2 4 2 4 2 2 2 4 2 2 2 2 2 2 2 2 4 2 2 4 2\n",
      "  2 4 2 4 4 2 2 4 2 2 4 4 2 2 2 2 4 4 2 2 2 2 2 4 4 4 2 4 2 4 2 2 2 4 4 2\n",
      "  4 4 4 2 4 4 2 2 2 2 2 2 2 2 4 4 2 2 2 4 4 2 2 2 4 4 2 4 4 4 2 2 4 2 2 4\n",
      "  4 4 4 2 4 4 2 4 4 4 2 4 2 4 4 4 4 2 2 2 2 2 2 4 4 2 2 4 2 4 4 4 2 2 2 2\n",
      "  4 4 4 4 4 2 4 4 4 2 4 2 4 4 2 2 2 2 4 2 2 4 4 4 4 4 2 4 4 2 2 4 4 2 2 4\n",
      "  4 2 4 2 4 4 2 2 4 2 2 2 4 2 2 4 4 2 2 4 2 4 2 2 4 2 4 4 4 2 2 4 4 2 4 2\n",
      "  2 4 4 2 2 2 4 2 2 2 4 4 2 2 2 4 2 2 4 4 4 4 4 4 2 2 2 2 4 4 2 2 2 2 2 2\n",
      "  2 2 2 2 2 2 2 4 2 2 2 2 4 2 2 2 2 4 2 2 2 2 2 2 2 2 4 2 2 2 2 2 2 2 2 2\n",
      "  2 4 2 4 2 4 2 2 2 2 4 2 2 2 4 2 4 2 2 2 2 2 2 2 4 4 2 2 2 4 2 2 2 2 2 2\n",
      "  2 2 4 2 2 2 4 2 4 4 4 2 2 2 2 2 2 2 4 4 4 2 2 2 2 2 2 2 2 2 2 2 4 2 2 4\n",
      "  4 2 2 2 4 4 4 2 4 2 4 2 2 2 2 2 2 2 2 2 2 2 2 4 2 2 2 2 2 2 2 4]]\n"
     ]
    }
   ],
   "source": [
    "print(y_train)"
   ]
  },
  {
   "cell_type": "code",
   "execution_count": 5,
   "id": "90739642-f185-48bc-a96f-d21b8a2d9c66",
   "metadata": {},
   "outputs": [
    {
     "name": "stdout",
     "output_type": "stream",
     "text": [
      "(500, 9)\n",
      "(1, 500)\n",
      "(183, 9)\n",
      "(1, 183)\n"
     ]
    }
   ],
   "source": [
    "x_test=test_set[:,:9]\n",
    "y_test=test_set[:,9]\n",
    "y_test=y_test.reshape((1,183))\n",
    "print(x_train.shape)\n",
    "print(y_train.shape)\n",
    "print(x_test.shape)\n",
    "print(y_test.shape)"
   ]
  },
  {
   "cell_type": "code",
   "execution_count": 6,
   "id": "8c7d356d-d496-4620-811c-5781d30aa3d6",
   "metadata": {},
   "outputs": [
    {
     "name": "stdout",
     "output_type": "stream",
     "text": [
      "[[1 0 0 0 1 0 0 1 1 0 0 0 0 0 0 1 0 0 0 0 0 0 0 0 0 0 0 0 0 0 0 1 0 0 1 0\n",
      "  0 0 0 0 0 0 0 0 0 0 0 0 0 0 1 0 0 1 1 1 1 0 0 1 0 0 0 0 0 0 1 1 0 0 0 1\n",
      "  0 1 0 1 1 1 0 1 0 0 0 0 0 0 0 0 1 1 1 0 0 1 0 1 1 1 0 0 0 0 0 0 0 0 0 0\n",
      "  0 0 1 0 0 0 0 0 0 1 0 0 1 0 0 0 0 0 0 0 0 0 0 0 1 0 0 0 0 0 0 0 0 0 1 0\n",
      "  0 0 0 0 0 0 0 0 1 1 1 0 0 0 0 0 0 0 0 0 1 1 0 0 0 0 0 0 0 0 0 1 0 0 0 0\n",
      "  1 1 1]]\n"
     ]
    }
   ],
   "source": [
    "y_train=np.where(y_train==2,0,1)\n",
    "y_test=np.where(y_test==2,0,1)\n",
    "print(y_test)\n",
    "\n",
    "# def z_normalization(X):\n",
    "#     m = np.mean(X, axis=1, keepdims=True)\n",
    "#     sig = np.std(X, axis=1, keepdims=True)\n",
    "#     normalized_x = (X - m) / sig\n",
    "#     return normalized_x\n",
    "# x_train=z_normalization(x_train)\n",
    "# x_test=z_normalization(x_test)"
   ]
  },
  {
   "cell_type": "code",
   "execution_count": 7,
   "id": "69b213ab-57ef-499f-92f4-c912ae249221",
   "metadata": {},
   "outputs": [],
   "source": [
    "def predict(x,w,b):\n",
    "    z=np.dot(w,x.T)+b\n",
    "    return sigmoid(z)\n",
    "def sigmoid(z):\n",
    "    g_z=1/(1+np.exp(-z))\n",
    "    return g_z"
   ]
  },
  {
   "cell_type": "code",
   "execution_count": 8,
   "id": "045509ab-b0cc-44e3-915d-b77d656f8ab2",
   "metadata": {},
   "outputs": [],
   "source": [
    "def compute_cost(x,y,w,b):\n",
    "    m=x.shape[0]\n",
    "    f_wb=predict(x,w,b)\n",
    "    cost=np.sum(y*np.log(f_wb)+(1-y)*np.log(1-f_wb),axis=1,keepdims=False)\n",
    "    cost=-cost/m\n",
    "    return cost"
   ]
  },
  {
   "cell_type": "code",
   "execution_count": 9,
   "id": "5c0a785c-850c-454d-b956-e8ac0401cedf",
   "metadata": {},
   "outputs": [],
   "source": [
    "def compute_gradient(x,y,w,b):\n",
    "    m=x.shape[0]\n",
    "    f_wb=predict(x,w,b)\n",
    "    dj_dw=np.sum(np.dot(f_wb-y,x),axis=1,keepdims=True)\n",
    "    dj_db=np.sum(f_wb-y,axis=1,keepdims=False)\n",
    "    dj_dw/=m\n",
    "    dj_db/=m\n",
    "    return dj_dw,dj_db"
   ]
  },
  {
   "cell_type": "code",
   "execution_count": 10,
   "id": "34422478-80e9-4fbe-a21f-f4ef8e6f3efd",
   "metadata": {},
   "outputs": [],
   "source": [
    "def gradient_descent(x,y,alpha,num_iter):\n",
    "    m=x.shape[1]\n",
    "    w=np.zeros((1,m))\n",
    "    b=0.0\n",
    "    j_cost=[]\n",
    "    j_it=[]\n",
    "    for i in range(num_iter):\n",
    "        dj_dw,dj_db=compute_gradient(x,y,w,b)\n",
    "        w=w-(alpha*dj_dw)\n",
    "        b=b-(alpha*dj_db)\n",
    "        if i%100==0 or i==num_iter-1:\n",
    "            temp_cost=compute_cost(x,y,w,b)\n",
    "            j_cost.append(temp_cost)\n",
    "            j_it.append(i)\n",
    "    return w,b,j_cost,j_it"
   ]
  },
  {
   "cell_type": "code",
   "execution_count": 11,
   "id": "2862959d-6964-4d70-b923-b2ac25e07ebe",
   "metadata": {},
   "outputs": [],
   "source": [
    "def actual(y):\n",
    "    return np.where(y>=0.5,1,0)"
   ]
  },
  {
   "cell_type": "code",
   "execution_count": 15,
   "id": "b48e6610-01c9-4757-abb7-19e23d649277",
   "metadata": {},
   "outputs": [
    {
     "data": {
      "text/plain": [
       "[<matplotlib.lines.Line2D at 0x212f97a15d0>]"
      ]
     },
     "execution_count": 15,
     "metadata": {},
     "output_type": "execute_result"
    },
    {
     "data": {
      "image/png": "[encoded data removed]",
      "text/plain": [
       "<Figure size 640x480 with 1 Axes>"
      ]
     },
     "metadata": {},
     "output_type": "display_data"
    }
   ],
   "source": [
    "alpha=0.002\n",
    "itera=10000\n",
    "w_f,b_f,j_cost,j_it=gradient_descent(x_train,y_train,alpha,itera)\n",
    "plt.plot(j_it,j_cost)"
   ]
  },
  {
   "cell_type": "code",
   "execution_count": 19,
   "id": "10fdff3d-6ce9-46d2-bfe7-9bccd05acca8",
   "metadata": {},
   "outputs": [
    {
     "name": "stdout",
     "output_type": "stream",
     "text": [
      "Accuracy:99.4535519125683\n"
     ]
    }
   ],
   "source": [
    "def compute_accuracy(y_pred, y_true):\n",
    "    return np.mean(y_pred == y_true)\n",
    "y_pre=actual(predict(x_test,w_f,b_f))\n",
    "print(f\"Accuracy:{compute_accuracy(y_pre,y_test)*100}\")"
   ]
  },
  {
   "cell_type": "markdown",
   "id": "dd9a2b26-6080-420b-a1cb-75d2de754ded",
   "metadata": {},
   "source": []
  }
 ],
 "metadata": {
  "kernelspec": {
   "display_name": "Python 3 (ipykernel)",
   "language": "python",
   "name": "python3"
  },
  "language_info": {
   "codemirror_mode": {
    "name": "ipython",
    "version": 3
   },
   "file_extension": ".py",
   "mimetype": "text/x-python",
   "name": "python",
   "nbconvert_exporter": "python",
   "pygments_lexer": "ipython3",
   "version": "3.11.3"
  }
 },
 "nbformat": 4,
 "nbformat_minor": 5
}
